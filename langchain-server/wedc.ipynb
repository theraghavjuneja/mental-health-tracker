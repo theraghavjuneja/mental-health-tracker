{
 "cells": [
  {
   "cell_type": "code",
   "execution_count": 1,
   "metadata": {},
   "outputs": [],
   "source": [
    "from langchain_google_genai import ChatGoogleGenerativeAI"
   ]
  },
  {
   "cell_type": "code",
   "execution_count": 4,
   "metadata": {},
   "outputs": [
    {
     "data": {
      "text/plain": [
       "True"
      ]
     },
     "execution_count": 4,
     "metadata": {},
     "output_type": "execute_result"
    }
   ],
   "source": [
    "from dotenv import load_dotenv\n",
    "load_dotenv()"
   ]
  },
  {
   "cell_type": "code",
   "execution_count": 5,
   "metadata": {},
   "outputs": [],
   "source": [
    "model=ChatGoogleGenerativeAI(\n",
    "    model=\"gemini-1.5-flash-latest\",\n",
    "    temperature=1,\n",
    "    \n",
    "    top_p=0.85\n",
    ")"
   ]
  },
  {
   "cell_type": "code",
   "execution_count": 7,
   "metadata": {},
   "outputs": [
    {
     "data": {
      "text/plain": [
       "AIMessage(content='Here are some song suggestions based on the chat, with reasons for their potential benefit:\\n\\n* **\"You Are Not Alone\" by Michael Jackson:**  This classic song reminds the user that they are not alone in their sadness and that others have experienced similar feelings. It can offer a sense of comfort and connection.\\n\\n* **\"What a Wonderful World\" by Louis Armstrong:**  This uplifting song focuses on the beauty and wonder of the world, reminding the user of the positive things in life even when they\\'re feeling down. It can help shift their focus to a more optimistic perspective.\\n\\n* **\"Let It Go\" by James Bay:**  This song encourages the user to let go of their worries and embrace their emotions. It can help them acknowledge their sadness without letting it consume them. \\n\\n* **\"Strong Enough\" by Sheryl Crow:**  This empowering song encourages the user to believe in their own strength and resilience. It can help them feel more confident in their ability to cope with difficult emotions. \\n\\n* **\"The Scientist\" by Coldplay:**  This introspective song explores themes of regret and the desire to go back in time. It can help the user process their sadness and understand the root causes of their feelings. \\n', response_metadata={'prompt_feedback': {'block_reason': 0, 'safety_ratings': []}, 'finish_reason': 'STOP', 'safety_ratings': [{'category': 'HARM_CATEGORY_SEXUALLY_EXPLICIT', 'probability': 'NEGLIGIBLE', 'blocked': False}, {'category': 'HARM_CATEGORY_HATE_SPEECH', 'probability': 'NEGLIGIBLE', 'blocked': False}, {'category': 'HARM_CATEGORY_HARASSMENT', 'probability': 'NEGLIGIBLE', 'blocked': False}, {'category': 'HARM_CATEGORY_DANGEROUS_CONTENT', 'probability': 'NEGLIGIBLE', 'blocked': False}]}, id='run-aba62fc6-2a0f-466d-9751-aab467366976-0', usage_metadata={'input_tokens': 393, 'output_tokens': 251, 'total_tokens': 644})"
      ]
     },
     "execution_count": 7,
     "metadata": {},
     "output_type": "execute_result"
    }
   ],
   "source": [
    "model.invoke(\n",
    "    \"\"\"\n",
    "Here is a chat of a mental Health AI and a user. You need to suggest some songs to users based on this so that his health is improved afterwards\n",
    "Hello\n",
    "\n",
    "Hello! I'm glad you're here. It sounds like you're taking a positive step towards prioritizing your mental wellness. What's on your mind today? 😊\n",
    "\n",
    "I don't know I am feeling very sad.\n",
    "\n",
    "I hear you, and it's okay to feel sad. Sadness is a normal human emotion, and it's important to allow yourself to feel it. Bottling it up can often make things feel worse in the long run.\n",
    "\n",
    "Would you feel comfortable sharing what's been making you feel this way? Even the little things can help me understand what you're going through. I'm here to listen without judgment. 😊\n",
    "\n",
    "But why it is always me, I haven't seen other people feeling sad\n",
    "\n",
    "It's completely understandable that you feel this way, but it's important to remember that everyone experiences sadness and other difficult emotions at times. Even if it doesn't always show on the outside, everyone faces challenges and has their own struggles.\n",
    "\n",
    "Sometimes when we're feeling down, it can seem like everyone else is happy and doing well. But it's important to remember that social media and even everyday interactions often present an incomplete picture. People tend to share their highlight reels, not necessarily the behind-the-scenes struggles.\n",
    "\n",
    "Instead of comparing your experience to others, try to focus on what you're feeling and what you need right now. Do you think we could explore some of the reasons why you might be feeling particularly sad at the moment?\n",
    "\n",
    "Remember, you're not alone in this. I'm here to listen and help you work through these feelings.\n",
    "\n",
    "As an output, you should only give me the song name along with the reason , nothing else\n",
    "\"\"\"\n",
    ")"
   ]
  },
  {
   "cell_type": "code",
   "execution_count": 9,
   "metadata": {},
   "outputs": [
    {
     "data": {
      "text/plain": [
       "AIMessage(content='Here are some podcast suggestions based on the chat, focusing on themes of sadness, comparison, and understanding emotions:\\n\\n* **\"The Happiness Lab\" with Dr. Laurie Santos:** This podcast explores the science of happiness and offers practical tips for improving well-being. It often tackles topics like sadness, social comparison, and finding meaning in life.\\n* **\"The Mindset Mentor\" with Rob Dial:** This podcast focuses on mental strength and resilience. It could help the user challenge negative thoughts and develop a more positive mindset, potentially addressing the feeling of \"why is it always me.\"\\n* **\"Where Should We Begin?\" with Esther Perel:** This podcast explores the complexities of relationships and offers insightful conversations about navigating life\\'s challenges. It could help the user understand that everyone experiences struggles in relationships and that they are not alone.\\n* **\"Unlocking Us\" with Brené Brown:** This podcast delves into topics like vulnerability, shame, and courage. It might help the user connect with their feelings and understand the importance of being open about their emotions.\\n* **\"Dear Sugars\" with Cheryl Strayed and Steve Almond:** This podcast offers advice and support for listeners dealing with a wide range of personal challenges. It could provide the user with a sense of community and understanding. \\n', response_metadata={'prompt_feedback': {'block_reason': 0, 'safety_ratings': []}, 'finish_reason': 'STOP', 'safety_ratings': [{'category': 'HARM_CATEGORY_SEXUALLY_EXPLICIT', 'probability': 'NEGLIGIBLE', 'blocked': False}, {'category': 'HARM_CATEGORY_HATE_SPEECH', 'probability': 'NEGLIGIBLE', 'blocked': False}, {'category': 'HARM_CATEGORY_HARASSMENT', 'probability': 'NEGLIGIBLE', 'blocked': False}, {'category': 'HARM_CATEGORY_DANGEROUS_CONTENT', 'probability': 'NEGLIGIBLE', 'blocked': False}]}, id='run-22d78b98-9c53-4bdf-a255-1e40d5bf9659-0', usage_metadata={'input_tokens': 391, 'output_tokens': 261, 'total_tokens': 652})"
      ]
     },
     "execution_count": 9,
     "metadata": {},
     "output_type": "execute_result"
    }
   ],
   "source": [
    "model.invoke(\n",
    "    \"\"\"\n",
    "Here is a chat of a mental Health AI and a user. You need to suggest some podcasts to users based on this so that his health is improved afterwards\n",
    "Hello\n",
    "\n",
    "Hello! I'm glad you're here. It sounds like you're taking a positive step towards prioritizing your mental wellness. What's on your mind today? 😊\n",
    "\n",
    "I don't know I am feeling very sad.\n",
    "\n",
    "I hear you, and it's okay to feel sad. Sadness is a normal human emotion, and it's important to allow yourself to feel it. Bottling it up can often make things feel worse in the long run.\n",
    "\n",
    "Would you feel comfortable sharing what's been making you feel this way? Even the little things can help me understand what you're going through. I'm here to listen without judgment. 😊\n",
    "\n",
    "But why it is always me, I haven't seen other people feeling sad\n",
    "\n",
    "It's completely understandable that you feel this way, but it's important to remember that everyone experiences sadness and other difficult emotions at times. Even if it doesn't always show on the outside, everyone faces challenges and has their own struggles.\n",
    "\n",
    "Sometimes when we're feeling down, it can seem like everyone else is happy and doing well. But it's important to remember that social media and even everyday interactions often present an incomplete picture. People tend to share their highlight reels, not necessarily the behind-the-scenes struggles.\n",
    "\n",
    "Instead of comparing your experience to others, try to focus on what you're feeling and what you need right now. Do you think we could explore some of the reasons why you might be feeling particularly sad at the moment?\n",
    "\n",
    "Remember, you're not alone in this. I'm here to listen and help you work through these feelings.\n",
    "\n",
    "Only give me the podcast suggestions, I don't need anything else as an output\n",
    "\"\"\"\n",
    ")"
   ]
  }
 ],
 "metadata": {
  "kernelspec": {
   "display_name": "Python 3",
   "language": "python",
   "name": "python3"
  },
  "language_info": {
   "codemirror_mode": {
    "name": "ipython",
    "version": 3
   },
   "file_extension": ".py",
   "mimetype": "text/x-python",
   "name": "python",
   "nbconvert_exporter": "python",
   "pygments_lexer": "ipython3",
   "version": "3.11.5"
  }
 },
 "nbformat": 4,
 "nbformat_minor": 2
}
